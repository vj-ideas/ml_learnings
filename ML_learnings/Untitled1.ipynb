{
 "cells": [
  {
   "cell_type": "code",
   "execution_count": 28,
   "id": "32b9a7d8-f57b-4739-b664-9ad7b3dface8",
   "metadata": {},
   "outputs": [
    {
     "name": "stdout",
     "output_type": "stream",
     "text": [
      "<class 'numpy.ndarray'>\n"
     ]
    }
   ],
   "source": [
    "import numpy as np\n",
    "arr = np.array([[4,5],[1,2]])\n",
    "arr1 = np.array([[2,3],[1,2]])\n",
    "arr2= np.array([3,3,5])\n",
    "print(type(arr))"
   ]
  },
  {
   "cell_type": "code",
   "execution_count": 29,
   "id": "60aae76e-e08f-41b8-af47-53a5d35741cd",
   "metadata": {},
   "outputs": [
    {
     "name": "stdout",
     "output_type": "stream",
     "text": [
      "2\n"
     ]
    }
   ],
   "source": [
    "print(arr.ndim)"
   ]
  },
  {
   "cell_type": "code",
   "execution_count": 30,
   "id": "4d29bf6b-b562-4b6e-a179-67dbf4b6aa60",
   "metadata": {},
   "outputs": [
    {
     "name": "stdout",
     "output_type": "stream",
     "text": [
      "4\n"
     ]
    }
   ],
   "source": [
    "print(arr.size)"
   ]
  },
  {
   "cell_type": "code",
   "execution_count": 31,
   "id": "cc45d1ee-9844-48d4-8870-c7ff4cfb42ad",
   "metadata": {},
   "outputs": [
    {
     "name": "stdout",
     "output_type": "stream",
     "text": [
      "int32\n"
     ]
    }
   ],
   "source": [
    "print(arr.dtype)"
   ]
  },
  {
   "cell_type": "code",
   "execution_count": 32,
   "id": "e786f710-fa2b-4baf-9273-61b9f8748e61",
   "metadata": {},
   "outputs": [
    {
     "name": "stdout",
     "output_type": "stream",
     "text": [
      "4\n"
     ]
    }
   ],
   "source": [
    "print(arr.itemsize)"
   ]
  },
  {
   "cell_type": "code",
   "execution_count": 33,
   "id": "86351981-ee32-4d88-812e-f85062f1c215",
   "metadata": {},
   "outputs": [
    {
     "name": "stdout",
     "output_type": "stream",
     "text": [
      "[[2 1]\n",
      " [1 1]]\n"
     ]
    }
   ],
   "source": [
    "print(arr//arr1)"
   ]
  },
  {
   "cell_type": "code",
   "execution_count": 34,
   "id": "931e7fd5-42f7-4215-93e0-20738b29dfe6",
   "metadata": {},
   "outputs": [
    {
     "name": "stdout",
     "output_type": "stream",
     "text": [
      "20\n"
     ]
    }
   ],
   "source": [
    "print(np.sum([arr,arr1]))"
   ]
  },
  {
   "cell_type": "code",
   "execution_count": 35,
   "id": "7d5649a9-6306-42e4-8d98-c56bd81ed026",
   "metadata": {},
   "outputs": [
    {
     "name": "stdout",
     "output_type": "stream",
     "text": [
      "[2 5 6 8]\n"
     ]
    }
   ],
   "source": [
    "print(np.cumsum(arr1))    #cum- add the current elemnt with total prevoious sum"
   ]
  },
  {
   "cell_type": "code",
   "execution_count": 36,
   "id": "9a9dc0a0-7427-457a-beac-6c11de33722e",
   "metadata": {},
   "outputs": [
    {
     "name": "stdout",
     "output_type": "stream",
     "text": [
      "[[6 8]\n",
      " [2 4]]\n"
     ]
    }
   ],
   "source": [
    "print(np.add(arr,arr1))"
   ]
  },
  {
   "cell_type": "code",
   "execution_count": 37,
   "id": "dcd10d95-e776-46e2-8db0-2b0231d68c0c",
   "metadata": {},
   "outputs": [
    {
     "name": "stdout",
     "output_type": "stream",
     "text": [
      "[[2 2]\n",
      " [0 0]]\n"
     ]
    }
   ],
   "source": [
    "print(np.subtract(arr,arr1))"
   ]
  },
  {
   "cell_type": "code",
   "execution_count": 38,
   "id": "6c3523d8-af09-44d8-943f-1a107e2eac37",
   "metadata": {},
   "outputs": [
    {
     "name": "stdout",
     "output_type": "stream",
     "text": [
      "[[0 2]\n",
      " [0 0]]\n"
     ]
    }
   ],
   "source": [
    "print(np.mod(arr,arr1))"
   ]
  },
  {
   "cell_type": "code",
   "execution_count": 39,
   "id": "8b74c58b-54e8-439e-b468-52aec7cca8ee",
   "metadata": {},
   "outputs": [
    {
     "name": "stdout",
     "output_type": "stream",
     "text": [
      "[[0 2]\n",
      " [0 0]]\n"
     ]
    }
   ],
   "source": [
    "print(arr%arr1)"
   ]
  },
  {
   "cell_type": "code",
   "execution_count": 41,
   "id": "d030d964-1f49-41fd-b39d-a87877622341",
   "metadata": {},
   "outputs": [
    {
     "name": "stdout",
     "output_type": "stream",
     "text": [
      "(array([[2, 1],\n",
      "       [1, 1]]), array([[0, 2],\n",
      "       [0, 0]]))\n",
      "<class 'tuple'>\n"
     ]
    }
   ],
   "source": [
    "arr = np.array([[4,5],[1,2]])\n",
    "arr1 = np.array([[2,3],[1,2]])\n",
    "arr5=np.divmod(arr,arr1)\n",
    "print(arr5)\n",
    "print(type(arr5))"
   ]
  },
  {
   "cell_type": "code",
   "execution_count": 42,
   "id": "abfa6108-925f-4f9b-9950-690bb7adcdf1",
   "metadata": {},
   "outputs": [
    {
     "name": "stdout",
     "output_type": "stream",
     "text": [
      "4\n"
     ]
    }
   ],
   "source": [
    "print(arr.size)"
   ]
  },
  {
   "cell_type": "code",
   "execution_count": null,
   "id": "a48b6eca-49ab-443c-9fe6-ea6585f93f1a",
   "metadata": {},
   "outputs": [],
   "source": []
  }
 ],
 "metadata": {
  "kernelspec": {
   "display_name": "Python 3 (ipykernel)",
   "language": "python",
   "name": "python3"
  },
  "language_info": {
   "codemirror_mode": {
    "name": "ipython",
    "version": 3
   },
   "file_extension": ".py",
   "mimetype": "text/x-python",
   "name": "python",
   "nbconvert_exporter": "python",
   "pygments_lexer": "ipython3",
   "version": "3.11.5"
  }
 },
 "nbformat": 4,
 "nbformat_minor": 5
}
