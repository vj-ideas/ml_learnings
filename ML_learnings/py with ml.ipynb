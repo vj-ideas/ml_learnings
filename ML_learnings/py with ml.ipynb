{
 "cells": [
  {
   "cell_type": "code",
   "execution_count": 1,
   "id": "32b9a7d8-f57b-4739-b664-9ad7b3dface8",
   "metadata": {},
   "outputs": [
    {
     "name": "stdout",
     "output_type": "stream",
     "text": [
      "<class 'numpy.ndarray'>\n"
     ]
    }
   ],
   "source": [
    "import numpy as np\n",
    "arr = np.array([[4.3,5],[1,2]])\n",
    "arr1 = np.array([[3,2],[1,2]])\n",
    "arr2= np.array([3,3,5])\n",
    "print(type(arr))"
   ]
  },
  {
   "cell_type": "code",
   "execution_count": 2,
   "id": "60aae76e-e08f-41b8-af47-53a5d35741cd",
   "metadata": {},
   "outputs": [
    {
     "name": "stdout",
     "output_type": "stream",
     "text": [
      "2\n"
     ]
    }
   ],
   "source": [
    "print(arr.ndim)"
   ]
  },
  {
   "cell_type": "code",
   "execution_count": 3,
   "id": "4d29bf6b-b562-4b6e-a179-67dbf4b6aa60",
   "metadata": {},
   "outputs": [
    {
     "name": "stdout",
     "output_type": "stream",
     "text": [
      "4\n"
     ]
    }
   ],
   "source": [
    "print(arr.size)"
   ]
  },
  {
   "cell_type": "markdown",
   "id": "74d77522",
   "metadata": {},
   "source": []
  },
  {
   "cell_type": "code",
   "execution_count": null,
   "id": "acaab059",
   "metadata": {},
   "outputs": [],
   "source": []
  },
  {
   "cell_type": "code",
   "execution_count": 4,
   "id": "cc45d1ee-9844-48d4-8870-c7ff4cfb42ad",
   "metadata": {},
   "outputs": [
    {
     "name": "stdout",
     "output_type": "stream",
     "text": [
      "float64\n"
     ]
    }
   ],
   "source": [
    "print(arr.dtype)"
   ]
  },
  {
   "cell_type": "code",
   "execution_count": 5,
   "id": "e786f710-fa2b-4baf-9273-61b9f8748e61",
   "metadata": {},
   "outputs": [
    {
     "name": "stdout",
     "output_type": "stream",
     "text": [
      "8\n"
     ]
    }
   ],
   "source": [
    "print(arr.itemsize)"
   ]
  },
  {
   "cell_type": "code",
   "execution_count": 6,
   "id": "86351981-ee32-4d88-812e-f85062f1c215",
   "metadata": {},
   "outputs": [
    {
     "name": "stdout",
     "output_type": "stream",
     "text": [
      "[[1. 2.]\n",
      " [1. 1.]]\n"
     ]
    }
   ],
   "source": [
    "print(arr//arr1)"
   ]
  },
  {
   "cell_type": "code",
   "execution_count": 7,
   "id": "931e7fd5-42f7-4215-93e0-20738b29dfe6",
   "metadata": {},
   "outputs": [
    {
     "name": "stdout",
     "output_type": "stream",
     "text": [
      "20.3\n"
     ]
    }
   ],
   "source": [
    "print(np.sum([arr,arr1]))"
   ]
  },
  {
   "cell_type": "code",
   "execution_count": 8,
   "id": "7d5649a9-6306-42e4-8d98-c56bd81ed026",
   "metadata": {},
   "outputs": [
    {
     "name": "stdout",
     "output_type": "stream",
     "text": [
      "[3 5 6 8]\n"
     ]
    }
   ],
   "source": [
    "print(np.cumsum(arr1))    #cum- add the current elemnt with total prevoious sum"
   ]
  },
  {
   "cell_type": "code",
   "execution_count": 9,
   "id": "9a9dc0a0-7427-457a-beac-6c11de33722e",
   "metadata": {},
   "outputs": [
    {
     "name": "stdout",
     "output_type": "stream",
     "text": [
      "[[7.3 7. ]\n",
      " [2.  4. ]]\n"
     ]
    }
   ],
   "source": [
    "print(np.add(arr,arr1))"
   ]
  },
  {
   "cell_type": "code",
   "execution_count": 10,
   "id": "dcd10d95-e776-46e2-8db0-2b0231d68c0c",
   "metadata": {},
   "outputs": [
    {
     "name": "stdout",
     "output_type": "stream",
     "text": [
      "[[1.3 3. ]\n",
      " [0.  0. ]]\n"
     ]
    }
   ],
   "source": [
    "print(np.subtract(arr,arr1))"
   ]
  },
  {
   "cell_type": "code",
   "execution_count": 11,
   "id": "6c3523d8-af09-44d8-943f-1a107e2eac37",
   "metadata": {},
   "outputs": [
    {
     "name": "stdout",
     "output_type": "stream",
     "text": [
      "[[1.3 1. ]\n",
      " [0.  0. ]]\n"
     ]
    }
   ],
   "source": [
    "print(np.mod(arr,arr1))"
   ]
  },
  {
   "cell_type": "code",
   "execution_count": 12,
   "id": "8b74c58b-54e8-439e-b468-52aec7cca8ee",
   "metadata": {},
   "outputs": [
    {
     "name": "stdout",
     "output_type": "stream",
     "text": [
      "[[1.3 1. ]\n",
      " [0.  0. ]]\n"
     ]
    }
   ],
   "source": [
    "print(arr%arr1)"
   ]
  },
  {
   "cell_type": "code",
   "execution_count": 13,
   "id": "d030d964-1f49-41fd-b39d-a87877622341",
   "metadata": {},
   "outputs": [
    {
     "name": "stdout",
     "output_type": "stream",
     "text": [
      "(array([[2, 1],\n",
      "       [1, 1]]), array([[0, 2],\n",
      "       [0, 0]]))\n",
      "<class 'tuple'>\n"
     ]
    }
   ],
   "source": [
    "arr = np.array([[4,5],[1,2]])\n",
    "arr1 = np.array([[2,3],[1,2]])\n",
    "arr5=np.divmod(arr,arr1)\n",
    "print(arr5)\n",
    "print(type(arr5))"
   ]
  },
  {
   "cell_type": "code",
   "execution_count": 14,
   "id": "abfa6108-925f-4f9b-9950-690bb7adcdf1",
   "metadata": {},
   "outputs": [
    {
     "name": "stdout",
     "output_type": "stream",
     "text": [
      "[[ 16 125]\n",
      " [  1   4]]\n"
     ]
    }
   ],
   "source": [
    "print(np.power(arr,arr1))"
   ]
  },
  {
   "cell_type": "code",
   "execution_count": 15,
   "id": "a48b6eca-49ab-443c-9fe6-ea6585f93f1a",
   "metadata": {},
   "outputs": [
    {
     "name": "stdout",
     "output_type": "stream",
     "text": [
      "1.0\n"
     ]
    }
   ],
   "source": [
    "print(np.sin(np.pi/2))\n"
   ]
  },
  {
   "cell_type": "code",
   "execution_count": 16,
   "id": "620287dc-c33e-49ae-a9d4-11e8e21b8c28",
   "metadata": {},
   "outputs": [
    {
     "name": "stdout",
     "output_type": "stream",
     "text": [
      "1.5707963267948966\n"
     ]
    }
   ],
   "source": [
    "print(np.deg2rad(90))"
   ]
  },
  {
   "cell_type": "code",
   "execution_count": 17,
   "id": "d7563e05-41aa-40e7-abad-92414cc6f0fa",
   "metadata": {},
   "outputs": [
    {
     "name": "stdout",
     "output_type": "stream",
     "text": [
      "4\n"
     ]
    }
   ],
   "source": [
    "print(arr.size)"
   ]
  },
  {
   "cell_type": "code",
   "execution_count": 18,
   "id": "b227a707-78b0-4a02-b3c2-bdd06956ed74",
   "metadata": {},
   "outputs": [
    {
     "name": "stdout",
     "output_type": "stream",
     "text": [
      "0.3519628431446268\n"
     ]
    }
   ],
   "source": [
    "from numpy import random\n",
    "val = random.rand()\n",
    "print(val)"
   ]
  },
  {
   "cell_type": "code",
   "execution_count": 19,
   "id": "94d9af33-d24f-4ed3-872b-81b6c64b65dc",
   "metadata": {},
   "outputs": [
    {
     "name": "stdout",
     "output_type": "stream",
     "text": [
      "59\n"
     ]
    }
   ],
   "source": [
    "from numpy import random\n",
    "val = random.randint(100)\n",
    "print(val)"
   ]
  },
  {
   "cell_type": "code",
   "execution_count": 20,
   "id": "93f51e17-cc37-437b-9ac6-3a6c424af742",
   "metadata": {},
   "outputs": [
    {
     "name": "stdout",
     "output_type": "stream",
     "text": [
      "-1\n"
     ]
    }
   ],
   "source": [
    "val2 = random.choice([-1,-22,-3,4,56,7,78,8,8])\n",
    "print(val2)"
   ]
  },
  {
   "cell_type": "code",
   "execution_count": 21,
   "id": "7408eb93-05bb-418e-8abd-809572903f0b",
   "metadata": {},
   "outputs": [
    {
     "name": "stdout",
     "output_type": "stream",
     "text": [
      "[10 12 14 16 18]\n"
     ]
    }
   ],
   "source": [
    "arr3=np.arange(10,20,2)\n",
    "print(arr3)"
   ]
  },
  {
   "cell_type": "code",
   "execution_count": 22,
   "id": "06cdfee6-47f1-4b87-9bfb-15e1f9e7852d",
   "metadata": {},
   "outputs": [
    {
     "name": "stdout",
     "output_type": "stream",
     "text": [
      "[[10 11]\n",
      " [12 13]\n",
      " [14 15]\n",
      " [16 17]\n",
      " [18 19]]\n"
     ]
    }
   ],
   "source": [
    "arr3=np.arange(10,20).reshape(5,2)\n",
    "print(arr3)"
   ]
  },
  {
   "cell_type": "code",
   "execution_count": 23,
   "id": "49653bdc-1aad-4eb2-a6ac-24e465f43d2e",
   "metadata": {},
   "outputs": [
    {
     "name": "stdout",
     "output_type": "stream",
     "text": [
      "[[10 12 14]\n",
      " [16 18 20]]\n"
     ]
    }
   ],
   "source": [
    "arr3=np.arange(10,22,2).reshape(2,3)\n",
    "print(arr3)"
   ]
  },
  {
   "cell_type": "code",
   "execution_count": 24,
   "id": "2c6342cf-34d0-4183-a3ce-70582d2f26ad",
   "metadata": {},
   "outputs": [
    {
     "name": "stdout",
     "output_type": "stream",
     "text": [
      "[[16 18 20]\n",
      " [10 12 14]]\n"
     ]
    }
   ],
   "source": [
    "random.shuffle(arr3)\n",
    "print(arr3)"
   ]
  },
  {
   "cell_type": "code",
   "execution_count": 29,
   "id": "5862a682-dc7e-486c-bb47-a9b72934f0ed",
   "metadata": {},
   "outputs": [
    {
     "name": "stdout",
     "output_type": "stream",
     "text": [
      "Enter the range : 2\n",
      "Guess a number from 0-2: 1\n",
      "Congrats!!! You guessed the number correctly on 1 tries. \n"
     ]
    }
   ],
   "source": [
    "import numpy as np\n",
    "from numpy import random\n",
    "val1=int(input(\"Enter the range : \"))\n",
    "val = random.randint(val1)\n",
    "count=0\n",
    "while True:\n",
    "    count+=1\n",
    "    x=int(input(f\"Guess a number from 0-{val1}: \"))\n",
    "    if(val==x):\n",
    "        print(f\"Congrats!!! You guessed the number correctly on {count} tries. \")\n",
    "        break\n",
    "    elif(val>x):\n",
    "        print(\"Try with greater number \")\n",
    "    elif(val<x):   \n",
    "        print(\"Try with Smaller number\")\n",
    "    "
   ]
  },
  {
   "cell_type": "markdown",
   "id": "20682228",
   "metadata": {},
   "source": [
    "import numpy as np\n",
    "from numpy import random\n",
    "min=int(input(\"enter \"))\n",
    "max=int(input(\"enter \"))\n",
    "min1=((10**min)-1)\n",
    "max1=((10**max)-1)\n",
    "print(min1,max1)\n",
    "count=0\n",
    "x=int(input(\"pasword \"))\n",
    "while (1):\n",
    "    count+=1\n",
    "    val = random.randint(min1,max1)\n",
    "    if(x==val):\n",
    "        print(f\"Congrats!!! {count} tries. \")\n",
    "        break\n",
    "        "
   ]
  },
  {
   "cell_type": "code",
   "execution_count": null,
   "id": "6b6b5bd6-df5b-4f35-87b7-f11e08f4a4e1",
   "metadata": {},
   "outputs": [],
   "source": []
  },
  {
   "cell_type": "code",
   "execution_count": null,
   "id": "297897f1-f6a5-4eef-9d98-2188ba8f7dce",
   "metadata": {},
   "outputs": [],
   "source": []
  },
  {
   "cell_type": "markdown",
   "id": "3d6192b8",
   "metadata": {},
   "source": [
    "## "
   ]
  },
  {
   "cell_type": "code",
   "execution_count": null,
   "id": "68edba97-1a3a-4718-b627-9639b74972b3",
   "metadata": {},
   "outputs": [],
   "source": []
  }
 ],
 "metadata": {
  "kernelspec": {
   "display_name": "Python 3 (ipykernel)",
   "language": "python",
   "name": "python3"
  },
  "language_info": {
   "codemirror_mode": {
    "name": "ipython",
    "version": 3
   },
   "file_extension": ".py",
   "mimetype": "text/x-python",
   "name": "python",
   "nbconvert_exporter": "python",
   "pygments_lexer": "ipython3",
   "version": "3.11.5"
  }
 },
 "nbformat": 4,
 "nbformat_minor": 5
}
