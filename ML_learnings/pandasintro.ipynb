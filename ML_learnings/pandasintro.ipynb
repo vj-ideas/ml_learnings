{
 "cells": [
  {
   "cell_type": "code",
   "execution_count": 48,
   "id": "7de12180-9fd7-45f2-bf63-f81318209cef",
   "metadata": {},
   "outputs": [
    {
     "name": "stdout",
     "output_type": "stream",
     "text": [
      "     0  age   income vehicle\n",
      "0    1   20   300000    alto\n",
      "1    2   22   300000    alto\n",
      "2    3   20   275000    alto\n",
      "3    4   27   500000   wagon\n",
      "4    5   26   550000   wagon\n",
      "5    6   30   580000   wagon\n",
      "6    7   31  1000000  baleno\n",
      "7    8   33  1100000  baleno\n",
      "8    9   35  1050000  baleno\n",
      "9   10   40  1500000  seltos\n",
      "10  11   42  1300000  seltos\n",
      "11  12   44  1400000  seltos\n"
     ]
    }
   ],
   "source": [
    "\"\"\" Mainly used in data analysis, data cleaning, data transformation, and data exploration tasks\"\"\"\n",
    "import warnings \n",
    "import pandas as pd\n",
    "df = pd.read_csv('Book1.csv')   # the read_csv() function is inbuilt in pandas\n",
    "df1 = pd.read_csv('assignmentreport_copy.csv')\n",
    "print(df)                         # data in the pandas is called the dataframes outside is datasets\n",
    "warnings.filterwarnings(\"ignore\")         #this will igore  the warnings"
   ]
  },
  {
   "cell_type": "code",
   "execution_count": 49,
   "id": "7f9f8cb4-14a4-4fc1-a6ac-285f180580f0",
   "metadata": {},
   "outputs": [
    {
     "name": "stdout",
     "output_type": "stream",
     "text": [
      "     0  age   income vehicle\n",
      "0    1   20   300000    alto\n",
      "1    2   22   300000    alto\n",
      "2    3   20   275000    alto\n",
      "3    4   27   500000   wagon\n",
      "4    5   26   550000   wagon\n",
      "5    6   30   580000   wagon\n",
      "6    7   31  1000000  baleno\n",
      "7    8   33  1100000  baleno\n",
      "8    9   35  1050000  baleno\n",
      "9   10   40  1500000  seltos\n",
      "10  11   42  1300000  seltos\n",
      "11  12   44  1400000  seltos\n"
     ]
    }
   ],
   "source": [
    "print(df.to_string())"
   ]
  },
  {
   "cell_type": "code",
   "execution_count": 50,
   "id": "059a6131-7336-4ad3-9abb-b75c6b4dc550",
   "metadata": {
    "scrolled": true
   },
   "outputs": [
    {
     "name": "stdout",
     "output_type": "stream",
     "text": [
      "                                     Name RollNumber  MCQ 1 Score  \\\n",
      "0                        Bala Sweatha S D    20AD008         20.0   \n",
      "1                               Pradeep K    20AD040         20.0   \n",
      "2                                Raghul G    20CY019         18.0   \n",
      "3                         Vishnupriya B E    20EC138         17.0   \n",
      "4   Gummireddigari Kadireddi Vijaya Durga    20CS014         16.0   \n",
      "..                                    ...        ...          ...   \n",
      "60                              Deepika S    20MD002          5.0   \n",
      "61                             Priyanka G        NaN          4.0   \n",
      "62                               Vahini D    20CS170          3.0   \n",
      "63                        Muthaiyanavendr    20EC081          NaN   \n",
      "64                             Dhanasri A    20IT007          NaN   \n",
      "\n",
      "    Coding Assessment 1  No.of Coding Question  Total Score  \n",
      "0                  75.0                      2           95  \n",
      "1                  75.0                      2           95  \n",
      "2                  75.0                      2           93  \n",
      "3                  75.0                      2           92  \n",
      "4                  75.0                      2           91  \n",
      "..                  ...                    ...          ...  \n",
      "60                  NaN                      0            5  \n",
      "61                  NaN                      0            4  \n",
      "62                  0.0                      0            3  \n",
      "63                  0.0                      0            0  \n",
      "64                  0.0                      0            0  \n",
      "\n",
      "[65 rows x 6 columns]\n"
     ]
    }
   ],
   "source": [
    "print(df1)   "
   ]
  },
  {
   "cell_type": "code",
   "execution_count": 51,
   "id": "d03febfd-7868-439a-acb4-0bbd08b1210e",
   "metadata": {},
   "outputs": [
    {
     "name": "stdout",
     "output_type": "stream",
     "text": [
      "                                     Name RollNumber  MCQ 1 Score  Coding Assessment 1  No.of Coding Question  Total Score\n",
      "0                        Bala Sweatha S D    20AD008         20.0                 75.0                      2           95\n",
      "1                               Pradeep K    20AD040         20.0                 75.0                      2           95\n",
      "2                                Raghul G    20CY019         18.0                 75.0                      2           93\n",
      "3                         Vishnupriya B E    20EC138         17.0                 75.0                      2           92\n",
      "4   Gummireddigari Kadireddi Vijaya Durga    20CS014         16.0                 75.0                      2           91\n",
      "5                            Vaishnavi  P    20CY025         13.0                 75.0                      2           88\n",
      "6                  Kotakonda Mallikarjuna    20CS025         11.0                 75.0                      2           86\n",
      "7                  Kalaiarasi Gunasekaran    20EC060         11.0                 75.0                      2           86\n",
      "8                  Yenumala Bharath Kumar    20CS058         10.0                 75.0                      2           85\n",
      "9                         Mohana Sabari M    20CY013         10.0                 75.0                      2           85\n",
      "10                      Jothiprakaash K S    20CS090          7.0                 75.0                      2           82\n",
      "11                        Jeeva Bhaviya R    20CY006          7.0                 75.0                      2           82\n",
      "12                               Susila S        NaN          6.0                 75.0                      2           81\n",
      "13                               Deenan K    20CS067         15.0                 65.0                      1           80\n",
      "14                   Krishnam Siva Likith    20AD029         15.0                 65.0                      1           80\n",
      "15                               Girija J        NaN         15.0                 65.0                      1           80\n",
      "16                           Venkatesan J    20CS172          5.0                 75.0                      2           80\n",
      "17                            Krithika Pv    20IT024         13.0                 65.0                      1           78\n",
      "18                      Gokul Nallathambi    20EC046          NaN                 75.0                      2           75\n",
      "19                            Kavipriya S    20CS093         16.0                 55.0                      1           71\n",
      "20                             Manogari K    20EC070         14.0                 55.0                      1           69\n",
      "21                          Sandya Sree R    20CS143         12.0                 55.0                      1           67\n",
      "22                           Chandrasri K    20AD009         12.0                 55.0                      1           67\n",
      "23                               Rashik N    20CS140         20.0                 45.0                      1           65\n",
      "24                            Yokeshwar V    20CS180         20.0                 40.0                      1           60\n",
      "25                         Mohanasundar S    20AD033         19.0                 35.0                      1           54\n",
      "26                             Visalini R        NaN         14.0                 40.0                      1           54\n",
      "27                         Ravibharathi M    20EC100         13.0                 40.0                      1           53\n",
      "28                              Monisha N    20CS115         17.0                 35.0                      1           52\n",
      "29                             Nandhini G    20AD035         15.0                 35.0                      1           50\n",
      "30                              Vignesh V    20EC136         14.0                 35.0                      1           49\n",
      "31                            Sushmitha S    20IT052         12.0                 35.0                      1           47\n",
      "32                               Naveen S    20CS123         11.0                 35.0                      1           46\n",
      "33                     Sharumathi Murugan    20EC113         11.0                 35.0                      1           46\n",
      "34                                Akash R    20CS060         10.0                 35.0                      1           45\n",
      "35                                Sugan V    20CS163          7.0                 35.0                      1           42\n",
      "36                             Boopathi K    20CY002          7.0                 35.0                      1           42\n",
      "37                            Manoharan M    20EC071          7.0                 35.0                      1           42\n",
      "38                              Sundhar A        NaN          8.0                 28.0                      0           36\n",
      "39                         Naveen Kumar V    20CS122          NaN                 35.0                      1           35\n",
      "40                            Hyder Ali K    20IT016         14.0                 20.0                      0           34\n",
      "41                            Sridharan M    20EC119         10.0                 20.0                      0           30\n",
      "42                             Jaishree J    20CS085         18.0                  8.0                      0           26\n",
      "43                          Suriyanaath G    20CS166         17.0                  NaN                      0           17\n",
      "44                     Mallireddy Pavitra    20AD031         17.0                  0.0                      0           17\n",
      "45                         A Harish Reddy    20EC001          9.0                  8.0                      0           17\n",
      "46                             Poovitha B        NaN         16.0                  NaN                      0           16\n",
      "47                      Alam Muni Karthik    20AD004         15.0                  0.0                      0           15\n",
      "48                            Jayasurya A    20CS089         14.0                  NaN                      0           14\n",
      "49                             Pavithra M    20CY016         13.0                  0.0                      0           13\n",
      "50                         Naveen Kumar A    20CS121         11.0                  0.0                      0           11\n",
      "51                            Rajadurai A    20EC099         11.0                  NaN                      0           11\n",
      "52                                Meera P        NaN         10.0                  NaN                      0           10\n",
      "53                        Kishore Kumar R    20CS101          9.0                  0.0                      0            9\n",
      "54                          Karthikeyan G    20CS091          8.0                  NaN                      0            8\n",
      "55                              Divya K V    20IT010          8.0                  NaN                      0            8\n",
      "56                            Vasanthan G    20CS171          7.0                  0.0                      0            7\n",
      "57                           Tamilarasu A    20AD051          7.0                  0.0                      0            7\n",
      "58                            Dharneesh V    20CS070          6.0                  0.0                      0            6\n",
      "59                              Nivetha.E    21AD502          6.0                  NaN                      0            6\n",
      "60                              Deepika S    20MD002          5.0                  NaN                      0            5\n",
      "61                             Priyanka G        NaN          4.0                  NaN                      0            4\n",
      "62                               Vahini D    20CS170          3.0                  0.0                      0            3\n",
      "63                        Muthaiyanavendr    20EC081          NaN                  0.0                      0            0\n",
      "64                             Dhanasri A    20IT007          NaN                  0.0                      0            0\n"
     ]
    }
   ],
   "source": [
    "print(df1.to_string())"
   ]
  },
  {
   "cell_type": "code",
   "execution_count": 52,
   "id": "6d7e9959",
   "metadata": {},
   "outputs": [
    {
     "name": "stdout",
     "output_type": "stream",
     "text": [
      "               Name RollNumber  MCQ 1 Score  Coding Assessment 1  \\\n",
      "0  Bala Sweatha S D    20AD008         20.0                 75.0   \n",
      "\n",
      "   No.of Coding Question  Total Score  \n",
      "0                      2           95  \n"
     ]
    }
   ],
   "source": [
    "print(df1.head(1)) "
   ]
  },
  {
   "cell_type": "code",
   "execution_count": 53,
   "id": "9fab463e-4839-4011-b080-633ca3b85c38",
   "metadata": {},
   "outputs": [
    {
     "name": "stdout",
     "output_type": "stream",
     "text": [
      "                                     Name RollNumber  MCQ 1 Score  Coding Assessment 1  No.of Coding Question  Total Score\n",
      "0                        Bala Sweatha S D    20AD008         20.0                 75.0                      2           95\n",
      "1                               Pradeep K    20AD040         20.0                 75.0                      2           95\n",
      "2                                Raghul G    20CY019         18.0                 75.0                      2           93\n",
      "3                         Vishnupriya B E    20EC138         17.0                 75.0                      2           92\n",
      "4   Gummireddigari Kadireddi Vijaya Durga    20CS014         16.0                 75.0                      2           91\n",
      "5                            Vaishnavi  P    20CY025         13.0                 75.0                      2           88\n",
      "6                  Kotakonda Mallikarjuna    20CS025         11.0                 75.0                      2           86\n",
      "7                  Kalaiarasi Gunasekaran    20EC060         11.0                 75.0                      2           86\n",
      "8                  Yenumala Bharath Kumar    20CS058         10.0                 75.0                      2           85\n",
      "9                         Mohana Sabari M    20CY013         10.0                 75.0                      2           85\n",
      "10                      Jothiprakaash K S    20CS090          7.0                 75.0                      2           82\n",
      "11                        Jeeva Bhaviya R    20CY006          7.0                 75.0                      2           82\n",
      "13                               Deenan K    20CS067         15.0                 65.0                      1           80\n",
      "14                   Krishnam Siva Likith    20AD029         15.0                 65.0                      1           80\n",
      "16                           Venkatesan J    20CS172          5.0                 75.0                      2           80\n",
      "17                            Krithika Pv    20IT024         13.0                 65.0                      1           78\n",
      "19                            Kavipriya S    20CS093         16.0                 55.0                      1           71\n",
      "20                             Manogari K    20EC070         14.0                 55.0                      1           69\n",
      "21                          Sandya Sree R    20CS143         12.0                 55.0                      1           67\n",
      "22                           Chandrasri K    20AD009         12.0                 55.0                      1           67\n",
      "23                               Rashik N    20CS140         20.0                 45.0                      1           65\n",
      "24                            Yokeshwar V    20CS180         20.0                 40.0                      1           60\n",
      "25                         Mohanasundar S    20AD033         19.0                 35.0                      1           54\n",
      "27                         Ravibharathi M    20EC100         13.0                 40.0                      1           53\n",
      "28                              Monisha N    20CS115         17.0                 35.0                      1           52\n",
      "29                             Nandhini G    20AD035         15.0                 35.0                      1           50\n",
      "30                              Vignesh V    20EC136         14.0                 35.0                      1           49\n",
      "31                            Sushmitha S    20IT052         12.0                 35.0                      1           47\n",
      "32                               Naveen S    20CS123         11.0                 35.0                      1           46\n",
      "33                     Sharumathi Murugan    20EC113         11.0                 35.0                      1           46\n",
      "34                                Akash R    20CS060         10.0                 35.0                      1           45\n",
      "35                                Sugan V    20CS163          7.0                 35.0                      1           42\n",
      "36                             Boopathi K    20CY002          7.0                 35.0                      1           42\n",
      "37                            Manoharan M    20EC071          7.0                 35.0                      1           42\n",
      "40                            Hyder Ali K    20IT016         14.0                 20.0                      0           34\n",
      "41                            Sridharan M    20EC119         10.0                 20.0                      0           30\n",
      "42                             Jaishree J    20CS085         18.0                  8.0                      0           26\n",
      "44                     Mallireddy Pavitra    20AD031         17.0                  0.0                      0           17\n",
      "45                         A Harish Reddy    20EC001          9.0                  8.0                      0           17\n",
      "47                      Alam Muni Karthik    20AD004         15.0                  0.0                      0           15\n",
      "49                             Pavithra M    20CY016         13.0                  0.0                      0           13\n",
      "50                         Naveen Kumar A    20CS121         11.0                  0.0                      0           11\n",
      "53                        Kishore Kumar R    20CS101          9.0                  0.0                      0            9\n",
      "56                            Vasanthan G    20CS171          7.0                  0.0                      0            7\n",
      "57                           Tamilarasu A    20AD051          7.0                  0.0                      0            7\n",
      "58                            Dharneesh V    20CS070          6.0                  0.0                      0            6\n",
      "62                               Vahini D    20CS170          3.0                  0.0                      0            3\n"
     ]
    }
   ],
   "source": [
    "newdf1= df1.dropna()    #drop the whole coloumn if any row contains \"na\"\n",
    "print(newdf1.to_string())    #study replace,fill,inplace"
   ]
  },
  {
   "cell_type": "code",
   "execution_count": 54,
   "id": "0eaeaeee-8d01-406b-9095-d0e154c33de1",
   "metadata": {},
   "outputs": [
    {
     "name": "stdout",
     "output_type": "stream",
     "text": [
      "                                     Name RollNumber  MCQ 1 Score  Coding Assessment 1  No.of Coding Question  Total Score\n",
      "0                        Bala Sweatha S D    20AD008         20.0                 75.0                      2           95\n",
      "1                               Pradeep K    20AD040         20.0                 75.0                      2           95\n",
      "2                                Raghul G    20CY019         18.0                 75.0                      2           93\n",
      "3                         Vishnupriya B E    20EC138         17.0                 75.0                      2           92\n",
      "4   Gummireddigari Kadireddi Vijaya Durga    20CS014         16.0                 75.0                      2           91\n",
      "5                            Vaishnavi  P    20CY025         13.0                 75.0                      2           88\n",
      "6                  Kotakonda Mallikarjuna    20CS025         11.0                 75.0                      2           86\n",
      "7                  Kalaiarasi Gunasekaran    20EC060         11.0                 75.0                      2           86\n",
      "8                  Yenumala Bharath Kumar    20CS058         10.0                 75.0                      2           85\n",
      "9                         Mohana Sabari M    20CY013         10.0                 75.0                      2           85\n",
      "10                      Jothiprakaash K S    20CS090          7.0                 75.0                      2           82\n",
      "11                        Jeeva Bhaviya R    20CY006          7.0                 75.0                      2           82\n",
      "12                               Susila S        NaN          6.0                 75.0                      2           81\n",
      "13                               Deenan K    20CS067         15.0                 65.0                      1           80\n",
      "14                   Krishnam Siva Likith    20AD029         15.0                 65.0                      1           80\n",
      "15                               Girija J        NaN         15.0                 65.0                      1           80\n",
      "16                           Venkatesan J    20CS172          5.0                 75.0                      2           80\n",
      "17                            Krithika Pv    20IT024         13.0                 65.0                      1           78\n",
      "18                      Gokul Nallathambi    20EC046          0.0                 75.0                      2           75\n",
      "19                            Kavipriya S    20CS093         16.0                 55.0                      1           71\n",
      "20                             Manogari K    20EC070         14.0                 55.0                      1           69\n",
      "21                          Sandya Sree R    20CS143         12.0                 55.0                      1           67\n",
      "22                           Chandrasri K    20AD009         12.0                 55.0                      1           67\n",
      "23                               Rashik N    20CS140         20.0                 45.0                      1           65\n",
      "24                            Yokeshwar V    20CS180         20.0                 40.0                      1           60\n",
      "25                         Mohanasundar S    20AD033         19.0                 35.0                      1           54\n",
      "26                             Visalini R        NaN         14.0                 40.0                      1           54\n",
      "27                         Ravibharathi M    20EC100         13.0                 40.0                      1           53\n",
      "28                              Monisha N    20CS115         17.0                 35.0                      1           52\n",
      "29                             Nandhini G    20AD035         15.0                 35.0                      1           50\n",
      "30                              Vignesh V    20EC136         14.0                 35.0                      1           49\n",
      "31                            Sushmitha S    20IT052         12.0                 35.0                      1           47\n",
      "32                               Naveen S    20CS123         11.0                 35.0                      1           46\n",
      "33                     Sharumathi Murugan    20EC113         11.0                 35.0                      1           46\n",
      "34                                Akash R    20CS060         10.0                 35.0                      1           45\n",
      "35                                Sugan V    20CS163          7.0                 35.0                      1           42\n",
      "36                             Boopathi K    20CY002          7.0                 35.0                      1           42\n",
      "37                            Manoharan M    20EC071          7.0                 35.0                      1           42\n",
      "38                              Sundhar A        NaN          8.0                 28.0                      0           36\n",
      "39                         Naveen Kumar V    20CS122          0.0                 35.0                      1           35\n",
      "40                            Hyder Ali K    20IT016         14.0                 20.0                      0           34\n",
      "41                            Sridharan M    20EC119         10.0                 20.0                      0           30\n",
      "42                             Jaishree J    20CS085         18.0                  8.0                      0           26\n",
      "43                          Suriyanaath G    20CS166         17.0                  NaN                      0           17\n",
      "44                     Mallireddy Pavitra    20AD031         17.0                  0.0                      0           17\n",
      "45                         A Harish Reddy    20EC001          9.0                  8.0                      0           17\n",
      "46                             Poovitha B        NaN         16.0                  NaN                      0           16\n",
      "47                      Alam Muni Karthik    20AD004         15.0                  0.0                      0           15\n",
      "48                            Jayasurya A    20CS089         14.0                  NaN                      0           14\n",
      "49                             Pavithra M    20CY016         13.0                  0.0                      0           13\n",
      "50                         Naveen Kumar A    20CS121         11.0                  0.0                      0           11\n",
      "51                            Rajadurai A    20EC099         11.0                  NaN                      0           11\n",
      "52                                Meera P        NaN         10.0                  NaN                      0           10\n",
      "53                        Kishore Kumar R    20CS101          9.0                  0.0                      0            9\n",
      "54                          Karthikeyan G    20CS091          8.0                  NaN                      0            8\n",
      "55                              Divya K V    20IT010          8.0                  NaN                      0            8\n",
      "56                            Vasanthan G    20CS171          7.0                  0.0                      0            7\n",
      "57                           Tamilarasu A    20AD051          7.0                  0.0                      0            7\n",
      "58                            Dharneesh V    20CS070          6.0                  0.0                      0            6\n",
      "59                              Nivetha.E    21AD502          6.0                  NaN                      0            6\n",
      "60                              Deepika S    20MD002          5.0                  NaN                      0            5\n",
      "61                             Priyanka G        NaN          4.0                  NaN                      0            4\n",
      "62                               Vahini D    20CS170          3.0                  0.0                      0            3\n",
      "63                        Muthaiyanavendr    20EC081          0.0                  0.0                      0            0\n",
      "64                             Dhanasri A    20IT007          0.0                  0.0                      0            0\n"
     ]
    }
   ],
   "source": [
    "df1['MCQ 1 Score'].fillna(0,inplace=True)\n",
    "print(df1.to_string())"
   ]
  },
  {
   "cell_type": "code",
   "execution_count": null,
   "id": "3e1e7e0f-aa78-4852-b72c-619722516acb",
   "metadata": {},
   "outputs": [],
   "source": []
  },
  {
   "cell_type": "code",
   "execution_count": 55,
   "id": "a13ebf24-f050-485b-b35e-c8c8914cc2c2",
   "metadata": {},
   "outputs": [
    {
     "name": "stdout",
     "output_type": "stream",
     "text": [
      "<class 'pandas.core.frame.DataFrame'>\n",
      "RangeIndex: 65 entries, 0 to 64\n",
      "Data columns (total 6 columns):\n",
      " #   Column                 Non-Null Count  Dtype  \n",
      "---  ------                 --------------  -----  \n",
      " 0   Name                   65 non-null     object \n",
      " 1   RollNumber             58 non-null     object \n",
      " 2   MCQ 1 Score            65 non-null     float64\n",
      " 3   Coding Assessment 1    55 non-null     float64\n",
      " 4   No.of Coding Question  65 non-null     int64  \n",
      " 5   Total Score            65 non-null     int64  \n",
      "dtypes: float64(2), int64(2), object(2)\n",
      "memory usage: 3.2+ KB\n",
      "None\n"
     ]
    }
   ],
   "source": [
    "print(df1.info())"
   ]
  },
  {
   "cell_type": "code",
   "execution_count": 56,
   "id": "645d5a05-d392-49a1-b826-e1e39d279842",
   "metadata": {},
   "outputs": [
    {
     "name": "stdout",
     "output_type": "stream",
     "text": [
      "95\n",
      "46.15384615384615\n"
     ]
    }
   ],
   "source": [
    "print(df1['Total Score'].max())\n",
    "print(df1['Total Score'].mean())"
   ]
  },
  {
   "cell_type": "code",
   "execution_count": 57,
   "id": "bdd262bc-810f-4ea6-bf60-903cafe7ad01",
   "metadata": {
    "scrolled": true
   },
   "outputs": [
    {
     "name": "stdout",
     "output_type": "stream",
     "text": [
      "0    Bala Sweatha S D\n",
      "1           Pradeep K\n"
     ]
    }
   ],
   "source": [
    "print(df1['Name'].loc[df1['Total Score'] == df1['Total Score'].max()].to_string())\n"
   ]
  },
  {
   "cell_type": "code",
   "execution_count": 58,
   "id": "9a0819fa-1c18-4672-a2e6-67bed31f181d",
   "metadata": {},
   "outputs": [
    {
     "name": "stdout",
     "output_type": "stream",
     "text": [
      "0                          Bala Sweatha S D\n",
      "1                                 Pradeep K\n",
      "2                                  Raghul G\n",
      "3                           Vishnupriya B E\n",
      "4     Gummireddigari Kadireddi Vijaya Durga\n",
      "5                              Vaishnavi  P\n",
      "6                    Kotakonda Mallikarjuna\n",
      "7                    Kalaiarasi Gunasekaran\n",
      "8                    Yenumala Bharath Kumar\n",
      "9                           Mohana Sabari M\n",
      "10                        Jothiprakaash K S\n",
      "11                          Jeeva Bhaviya R\n",
      "12                                 Susila S\n",
      "13                                 Deenan K\n",
      "14                     Krishnam Siva Likith\n",
      "15                                 Girija J\n",
      "16                             Venkatesan J\n",
      "17                              Krithika Pv\n",
      "18                        Gokul Nallathambi\n"
     ]
    }
   ],
   "source": [
    "print(df1['Name'].loc[df1['Total Score']>=75].to_string())"
   ]
  },
  {
   "cell_type": "code",
   "execution_count": 59,
   "id": "5b7b9400-c2bb-4558-afe4-16060dd9f3c9",
   "metadata": {},
   "outputs": [
    {
     "name": "stdout",
     "output_type": "stream",
     "text": [
      "<bound method DataFrame.to_string of     MCQ 1 Score  Coding Assessment 1  No.of Coding Question  Total Score\n",
      "0          20.0                 75.0                      2           95\n",
      "1          20.0                 75.0                      2           95\n",
      "2          18.0                 75.0                      2           93\n",
      "3          17.0                 75.0                      2           92\n",
      "4          16.0                 75.0                      2           91\n",
      "..          ...                  ...                    ...          ...\n",
      "60          5.0                  NaN                      0            5\n",
      "61          4.0                  NaN                      0            4\n",
      "62          3.0                  0.0                      0            3\n",
      "63          0.0                  0.0                      0            0\n",
      "64          0.0                  0.0                      0            0\n",
      "\n",
      "[65 rows x 4 columns]>\n",
      "                       MCQ 1 Score  Coding Assessment 1  No.of Coding Question  Total Score\n",
      "MCQ 1 Score               1.000000             0.233750               0.183239     0.394926\n",
      "Coding Assessment 1       0.233750             1.000000               0.942207     0.984718\n",
      "No.of Coding Question     0.183239             0.942207               1.000000     0.933825\n",
      "Total Score               0.394926             0.984718               0.933825     1.000000\n"
     ]
    }
   ],
   "source": [
    "tempdf=df1.drop(columns = ['Name','RollNumber'])\n",
    "print(tempdf.to_string)               # bad co-relation  averageco-relation and good co-realtion are the types\n",
    "print(tempdf.corr().to_string())"
   ]
  },
  {
   "cell_type": "code",
   "execution_count": 68,
   "id": "a6a0b0ef-ce6d-4490-98e4-4d3b67c3139a",
   "metadata": {},
   "outputs": [
    {
     "name": "stdout",
     "output_type": "stream",
     "text": [
      "<bound method DataFrame.to_string of      0   income vehicle\n",
      "0    1   300000    alto\n",
      "1    2   300000    alto\n",
      "2    3   275000    alto\n",
      "3    4   500000   wagon\n",
      "4    5   550000   wagon\n",
      "5    6   580000   wagon\n",
      "6    7  1000000  baleno\n",
      "7    8  1100000  baleno\n",
      "8    9  1050000  baleno\n",
      "9   10  1500000  seltos\n",
      "10  11  1300000  seltos\n",
      "11  12  1400000  seltos>\n"
     ]
    },
    {
     "data": {
      "text/plain": [
       "'print(tempdf.corr().to_string())'"
      ]
     },
     "execution_count": 68,
     "metadata": {},
     "output_type": "execute_result"
    }
   ],
   "source": [
    "tempdf=df.drop(columns = ['age'])\n",
    "print(tempdf.to_string)              \n",
    "\"\"\"print(tempdf.corr().to_string())\"\"\""
   ]
  },
  {
   "cell_type": "code",
   "execution_count": 28,
   "id": "ed554618-dd39-46c6-bbfc-24ebc886bb5e",
   "metadata": {},
   "outputs": [
    {
     "ename": "FileNotFoundError",
     "evalue": "[Errno 2] No such file or directory: 'create data.csv'",
     "output_type": "error",
     "traceback": [
      "\u001b[1;31m---------------------------------------------------------------------------\u001b[0m",
      "\u001b[1;31mFileNotFoundError\u001b[0m                         Traceback (most recent call last)",
      "Cell \u001b[1;32mIn[28], line 1\u001b[0m\n\u001b[1;32m----> 1\u001b[0m df3 \u001b[38;5;241m=\u001b[39m pd\u001b[38;5;241m.\u001b[39mread_csv(\u001b[38;5;124m'\u001b[39m\u001b[38;5;124mcreate data.csv\u001b[39m\u001b[38;5;124m'\u001b[39m)\n\u001b[0;32m      2\u001b[0m \u001b[38;5;28mprint\u001b[39m(df3\u001b[38;5;241m.\u001b[39mto_string)\n",
      "File \u001b[1;32m~\\anaconda3\\Lib\\site-packages\\pandas\\io\\parsers\\readers.py:912\u001b[0m, in \u001b[0;36mread_csv\u001b[1;34m(filepath_or_buffer, sep, delimiter, header, names, index_col, usecols, dtype, engine, converters, true_values, false_values, skipinitialspace, skiprows, skipfooter, nrows, na_values, keep_default_na, na_filter, verbose, skip_blank_lines, parse_dates, infer_datetime_format, keep_date_col, date_parser, date_format, dayfirst, cache_dates, iterator, chunksize, compression, thousands, decimal, lineterminator, quotechar, quoting, doublequote, escapechar, comment, encoding, encoding_errors, dialect, on_bad_lines, delim_whitespace, low_memory, memory_map, float_precision, storage_options, dtype_backend)\u001b[0m\n\u001b[0;32m    899\u001b[0m kwds_defaults \u001b[38;5;241m=\u001b[39m _refine_defaults_read(\n\u001b[0;32m    900\u001b[0m     dialect,\n\u001b[0;32m    901\u001b[0m     delimiter,\n\u001b[1;32m   (...)\u001b[0m\n\u001b[0;32m    908\u001b[0m     dtype_backend\u001b[38;5;241m=\u001b[39mdtype_backend,\n\u001b[0;32m    909\u001b[0m )\n\u001b[0;32m    910\u001b[0m kwds\u001b[38;5;241m.\u001b[39mupdate(kwds_defaults)\n\u001b[1;32m--> 912\u001b[0m \u001b[38;5;28;01mreturn\u001b[39;00m _read(filepath_or_buffer, kwds)\n",
      "File \u001b[1;32m~\\anaconda3\\Lib\\site-packages\\pandas\\io\\parsers\\readers.py:577\u001b[0m, in \u001b[0;36m_read\u001b[1;34m(filepath_or_buffer, kwds)\u001b[0m\n\u001b[0;32m    574\u001b[0m _validate_names(kwds\u001b[38;5;241m.\u001b[39mget(\u001b[38;5;124m\"\u001b[39m\u001b[38;5;124mnames\u001b[39m\u001b[38;5;124m\"\u001b[39m, \u001b[38;5;28;01mNone\u001b[39;00m))\n\u001b[0;32m    576\u001b[0m \u001b[38;5;66;03m# Create the parser.\u001b[39;00m\n\u001b[1;32m--> 577\u001b[0m parser \u001b[38;5;241m=\u001b[39m TextFileReader(filepath_or_buffer, \u001b[38;5;241m*\u001b[39m\u001b[38;5;241m*\u001b[39mkwds)\n\u001b[0;32m    579\u001b[0m \u001b[38;5;28;01mif\u001b[39;00m chunksize \u001b[38;5;129;01mor\u001b[39;00m iterator:\n\u001b[0;32m    580\u001b[0m     \u001b[38;5;28;01mreturn\u001b[39;00m parser\n",
      "File \u001b[1;32m~\\anaconda3\\Lib\\site-packages\\pandas\\io\\parsers\\readers.py:1407\u001b[0m, in \u001b[0;36mTextFileReader.__init__\u001b[1;34m(self, f, engine, **kwds)\u001b[0m\n\u001b[0;32m   1404\u001b[0m     \u001b[38;5;28mself\u001b[39m\u001b[38;5;241m.\u001b[39moptions[\u001b[38;5;124m\"\u001b[39m\u001b[38;5;124mhas_index_names\u001b[39m\u001b[38;5;124m\"\u001b[39m] \u001b[38;5;241m=\u001b[39m kwds[\u001b[38;5;124m\"\u001b[39m\u001b[38;5;124mhas_index_names\u001b[39m\u001b[38;5;124m\"\u001b[39m]\n\u001b[0;32m   1406\u001b[0m \u001b[38;5;28mself\u001b[39m\u001b[38;5;241m.\u001b[39mhandles: IOHandles \u001b[38;5;241m|\u001b[39m \u001b[38;5;28;01mNone\u001b[39;00m \u001b[38;5;241m=\u001b[39m \u001b[38;5;28;01mNone\u001b[39;00m\n\u001b[1;32m-> 1407\u001b[0m \u001b[38;5;28mself\u001b[39m\u001b[38;5;241m.\u001b[39m_engine \u001b[38;5;241m=\u001b[39m \u001b[38;5;28mself\u001b[39m\u001b[38;5;241m.\u001b[39m_make_engine(f, \u001b[38;5;28mself\u001b[39m\u001b[38;5;241m.\u001b[39mengine)\n",
      "File \u001b[1;32m~\\anaconda3\\Lib\\site-packages\\pandas\\io\\parsers\\readers.py:1661\u001b[0m, in \u001b[0;36mTextFileReader._make_engine\u001b[1;34m(self, f, engine)\u001b[0m\n\u001b[0;32m   1659\u001b[0m     \u001b[38;5;28;01mif\u001b[39;00m \u001b[38;5;124m\"\u001b[39m\u001b[38;5;124mb\u001b[39m\u001b[38;5;124m\"\u001b[39m \u001b[38;5;129;01mnot\u001b[39;00m \u001b[38;5;129;01min\u001b[39;00m mode:\n\u001b[0;32m   1660\u001b[0m         mode \u001b[38;5;241m+\u001b[39m\u001b[38;5;241m=\u001b[39m \u001b[38;5;124m\"\u001b[39m\u001b[38;5;124mb\u001b[39m\u001b[38;5;124m\"\u001b[39m\n\u001b[1;32m-> 1661\u001b[0m \u001b[38;5;28mself\u001b[39m\u001b[38;5;241m.\u001b[39mhandles \u001b[38;5;241m=\u001b[39m get_handle(\n\u001b[0;32m   1662\u001b[0m     f,\n\u001b[0;32m   1663\u001b[0m     mode,\n\u001b[0;32m   1664\u001b[0m     encoding\u001b[38;5;241m=\u001b[39m\u001b[38;5;28mself\u001b[39m\u001b[38;5;241m.\u001b[39moptions\u001b[38;5;241m.\u001b[39mget(\u001b[38;5;124m\"\u001b[39m\u001b[38;5;124mencoding\u001b[39m\u001b[38;5;124m\"\u001b[39m, \u001b[38;5;28;01mNone\u001b[39;00m),\n\u001b[0;32m   1665\u001b[0m     compression\u001b[38;5;241m=\u001b[39m\u001b[38;5;28mself\u001b[39m\u001b[38;5;241m.\u001b[39moptions\u001b[38;5;241m.\u001b[39mget(\u001b[38;5;124m\"\u001b[39m\u001b[38;5;124mcompression\u001b[39m\u001b[38;5;124m\"\u001b[39m, \u001b[38;5;28;01mNone\u001b[39;00m),\n\u001b[0;32m   1666\u001b[0m     memory_map\u001b[38;5;241m=\u001b[39m\u001b[38;5;28mself\u001b[39m\u001b[38;5;241m.\u001b[39moptions\u001b[38;5;241m.\u001b[39mget(\u001b[38;5;124m\"\u001b[39m\u001b[38;5;124mmemory_map\u001b[39m\u001b[38;5;124m\"\u001b[39m, \u001b[38;5;28;01mFalse\u001b[39;00m),\n\u001b[0;32m   1667\u001b[0m     is_text\u001b[38;5;241m=\u001b[39mis_text,\n\u001b[0;32m   1668\u001b[0m     errors\u001b[38;5;241m=\u001b[39m\u001b[38;5;28mself\u001b[39m\u001b[38;5;241m.\u001b[39moptions\u001b[38;5;241m.\u001b[39mget(\u001b[38;5;124m\"\u001b[39m\u001b[38;5;124mencoding_errors\u001b[39m\u001b[38;5;124m\"\u001b[39m, \u001b[38;5;124m\"\u001b[39m\u001b[38;5;124mstrict\u001b[39m\u001b[38;5;124m\"\u001b[39m),\n\u001b[0;32m   1669\u001b[0m     storage_options\u001b[38;5;241m=\u001b[39m\u001b[38;5;28mself\u001b[39m\u001b[38;5;241m.\u001b[39moptions\u001b[38;5;241m.\u001b[39mget(\u001b[38;5;124m\"\u001b[39m\u001b[38;5;124mstorage_options\u001b[39m\u001b[38;5;124m\"\u001b[39m, \u001b[38;5;28;01mNone\u001b[39;00m),\n\u001b[0;32m   1670\u001b[0m )\n\u001b[0;32m   1671\u001b[0m \u001b[38;5;28;01massert\u001b[39;00m \u001b[38;5;28mself\u001b[39m\u001b[38;5;241m.\u001b[39mhandles \u001b[38;5;129;01mis\u001b[39;00m \u001b[38;5;129;01mnot\u001b[39;00m \u001b[38;5;28;01mNone\u001b[39;00m\n\u001b[0;32m   1672\u001b[0m f \u001b[38;5;241m=\u001b[39m \u001b[38;5;28mself\u001b[39m\u001b[38;5;241m.\u001b[39mhandles\u001b[38;5;241m.\u001b[39mhandle\n",
      "File \u001b[1;32m~\\anaconda3\\Lib\\site-packages\\pandas\\io\\common.py:859\u001b[0m, in \u001b[0;36mget_handle\u001b[1;34m(path_or_buf, mode, encoding, compression, memory_map, is_text, errors, storage_options)\u001b[0m\n\u001b[0;32m    854\u001b[0m \u001b[38;5;28;01melif\u001b[39;00m \u001b[38;5;28misinstance\u001b[39m(handle, \u001b[38;5;28mstr\u001b[39m):\n\u001b[0;32m    855\u001b[0m     \u001b[38;5;66;03m# Check whether the filename is to be opened in binary mode.\u001b[39;00m\n\u001b[0;32m    856\u001b[0m     \u001b[38;5;66;03m# Binary mode does not support 'encoding' and 'newline'.\u001b[39;00m\n\u001b[0;32m    857\u001b[0m     \u001b[38;5;28;01mif\u001b[39;00m ioargs\u001b[38;5;241m.\u001b[39mencoding \u001b[38;5;129;01mand\u001b[39;00m \u001b[38;5;124m\"\u001b[39m\u001b[38;5;124mb\u001b[39m\u001b[38;5;124m\"\u001b[39m \u001b[38;5;129;01mnot\u001b[39;00m \u001b[38;5;129;01min\u001b[39;00m ioargs\u001b[38;5;241m.\u001b[39mmode:\n\u001b[0;32m    858\u001b[0m         \u001b[38;5;66;03m# Encoding\u001b[39;00m\n\u001b[1;32m--> 859\u001b[0m         handle \u001b[38;5;241m=\u001b[39m \u001b[38;5;28mopen\u001b[39m(\n\u001b[0;32m    860\u001b[0m             handle,\n\u001b[0;32m    861\u001b[0m             ioargs\u001b[38;5;241m.\u001b[39mmode,\n\u001b[0;32m    862\u001b[0m             encoding\u001b[38;5;241m=\u001b[39mioargs\u001b[38;5;241m.\u001b[39mencoding,\n\u001b[0;32m    863\u001b[0m             errors\u001b[38;5;241m=\u001b[39merrors,\n\u001b[0;32m    864\u001b[0m             newline\u001b[38;5;241m=\u001b[39m\u001b[38;5;124m\"\u001b[39m\u001b[38;5;124m\"\u001b[39m,\n\u001b[0;32m    865\u001b[0m         )\n\u001b[0;32m    866\u001b[0m     \u001b[38;5;28;01melse\u001b[39;00m:\n\u001b[0;32m    867\u001b[0m         \u001b[38;5;66;03m# Binary mode\u001b[39;00m\n\u001b[0;32m    868\u001b[0m         handle \u001b[38;5;241m=\u001b[39m \u001b[38;5;28mopen\u001b[39m(handle, ioargs\u001b[38;5;241m.\u001b[39mmode)\n",
      "\u001b[1;31mFileNotFoundError\u001b[0m: [Errno 2] No such file or directory: 'create data.csv'"
     ]
    }
   ],
   "source": [
    "df3 = pd.read_csv('create data.csv')\n",
    "print(df3.to_string)"
   ]
  },
  {
   "cell_type": "code",
   "execution_count": 29,
   "id": "7cc40f63-95b6-466a-b793-be8554ce571a",
   "metadata": {},
   "outputs": [
    {
     "ename": "NameError",
     "evalue": "name 'df3' is not defined",
     "output_type": "error",
     "traceback": [
      "\u001b[1;31m---------------------------------------------------------------------------\u001b[0m",
      "\u001b[1;31mNameError\u001b[0m                                 Traceback (most recent call last)",
      "Cell \u001b[1;32mIn[29], line 1\u001b[0m\n\u001b[1;32m----> 1\u001b[0m df3\u001b[38;5;241m.\u001b[39mvalue_counts([\u001b[38;5;124m'\u001b[39m\u001b[38;5;124mvehicle\u001b[39m\u001b[38;5;124m'\u001b[39m])\n",
      "\u001b[1;31mNameError\u001b[0m: name 'df3' is not defined"
     ]
    }
   ],
   "source": [
    "df3.value_counts(['vehicle'])"
   ]
  },
  {
   "cell_type": "code",
   "execution_count": 30,
   "id": "c5c135b3-c3fa-4fb3-b1bb-262cb408dfc6",
   "metadata": {},
   "outputs": [
    {
     "ename": "NameError",
     "evalue": "name 'df3' is not defined",
     "output_type": "error",
     "traceback": [
      "\u001b[1;31m---------------------------------------------------------------------------\u001b[0m",
      "\u001b[1;31mNameError\u001b[0m                                 Traceback (most recent call last)",
      "Cell \u001b[1;32mIn[30], line 1\u001b[0m\n\u001b[1;32m----> 1\u001b[0m df3[\u001b[38;5;124m'\u001b[39m\u001b[38;5;124mincome\u001b[39m\u001b[38;5;124m'\u001b[39m]\u001b[38;5;241m.\u001b[39msum()\n",
      "\u001b[1;31mNameError\u001b[0m: name 'df3' is not defined"
     ]
    }
   ],
   "source": [
    "df3['income'].sum()"
   ]
  },
  {
   "cell_type": "code",
   "execution_count": null,
   "id": "7f83fdb7-5c5f-49a3-aa83-590e204823f0",
   "metadata": {},
   "outputs": [],
   "source": []
  },
  {
   "cell_type": "code",
   "execution_count": null,
   "id": "bf72fca2-d85c-4802-9c09-4f1ecbf91aa6",
   "metadata": {},
   "outputs": [],
   "source": []
  },
  {
   "cell_type": "code",
   "execution_count": null,
   "id": "5b8cb234-2513-4051-aa3b-40aaa634f7b2",
   "metadata": {},
   "outputs": [],
   "source": []
  }
 ],
 "metadata": {
  "kernelspec": {
   "display_name": "Python 3 (ipykernel)",
   "language": "python",
   "name": "python3"
  },
  "language_info": {
   "codemirror_mode": {
    "name": "ipython",
    "version": 3
   },
   "file_extension": ".py",
   "mimetype": "text/x-python",
   "name": "python",
   "nbconvert_exporter": "python",
   "pygments_lexer": "ipython3",
   "version": "3.11.5"
  }
 },
 "nbformat": 4,
 "nbformat_minor": 5
}
